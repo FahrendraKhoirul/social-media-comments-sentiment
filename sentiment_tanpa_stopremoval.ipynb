{
 "cells": [
  {
   "attachments": {},
   "cell_type": "markdown",
   "metadata": {},
   "source": [
    "# Sentiment Analysis"
   ]
  },
  {
   "cell_type": "code",
   "execution_count": 2,
   "metadata": {},
   "outputs": [],
   "source": [
    "# import all libraries for Sentiment Analysis for Indonesian Language\n",
    "import pandas as pd\n",
    "import numpy as np\n",
    "import tensorflow as tf\n",
    "import nltk\n",
    "import matplotlib.pyplot as plt\n",
    "from Sastrawi.Stemmer.StemmerFactory import StemmerFactory\n",
    "from Sastrawi.StopWordRemover.StopWordRemoverFactory import StopWordRemoverFactory\n",
    "from sklearn.metrics import classification_report\n",
    "from tensorflow.keras.preprocessing.text import Tokenizer\n",
    "from tensorflow.keras.preprocessing.sequence import pad_sequences\n",
    "from sklearn.model_selection import train_test_split\n",
    "from keras.callbacks import EarlyStopping\n",
    "from sklearn.preprocessing import LabelEncoder"
   ]
  },
  {
   "attachments": {},
   "cell_type": "markdown",
   "metadata": {},
   "source": [
    "## Load Dataset"
   ]
  },
  {
   "cell_type": "code",
   "execution_count": 4,
   "metadata": {},
   "outputs": [],
   "source": [
    "# load tsv dataset\n",
    "df = pd.read_csv('merged_train_valid_file.tsv', sep='\\t')"
   ]
  },
  {
   "cell_type": "code",
   "execution_count": 5,
   "metadata": {},
   "outputs": [
    {
     "data": {
      "text/html": [
       "<div>\n",
       "<style scoped>\n",
       "    .dataframe tbody tr th:only-of-type {\n",
       "        vertical-align: middle;\n",
       "    }\n",
       "\n",
       "    .dataframe tbody tr th {\n",
       "        vertical-align: top;\n",
       "    }\n",
       "\n",
       "    .dataframe thead th {\n",
       "        text-align: right;\n",
       "    }\n",
       "</style>\n",
       "<table border=\"1\" class=\"dataframe\">\n",
       "  <thead>\n",
       "    <tr style=\"text-align: right;\">\n",
       "      <th></th>\n",
       "      <th>text</th>\n",
       "      <th>label</th>\n",
       "    </tr>\n",
       "  </thead>\n",
       "  <tbody>\n",
       "    <tr>\n",
       "      <th>0</th>\n",
       "      <td>tidak enak</td>\n",
       "      <td>negative</td>\n",
       "    </tr>\n",
       "    <tr>\n",
       "      <th>1</th>\n",
       "      <td>restoran ini menawarkan makanan sunda . kami m...</td>\n",
       "      <td>positive</td>\n",
       "    </tr>\n",
       "    <tr>\n",
       "      <th>2</th>\n",
       "      <td>lokasi di alun alun masakan padang ini cukup t...</td>\n",
       "      <td>positive</td>\n",
       "    </tr>\n",
       "    <tr>\n",
       "      <th>3</th>\n",
       "      <td>betapa bejad kader gerindra yang anggota dprd ...</td>\n",
       "      <td>negative</td>\n",
       "    </tr>\n",
       "    <tr>\n",
       "      <th>4</th>\n",
       "      <td>kampiun bistro berada di jalan . kebon kawung ...</td>\n",
       "      <td>positive</td>\n",
       "    </tr>\n",
       "    <tr>\n",
       "      <th>...</th>\n",
       "      <td>...</td>\n",
       "      <td>...</td>\n",
       "    </tr>\n",
       "    <tr>\n",
       "      <th>12253</th>\n",
       "      <td>tidak kecewa</td>\n",
       "      <td>positive</td>\n",
       "    </tr>\n",
       "    <tr>\n",
       "      <th>12254</th>\n",
       "      <td>enak rasa masakan nya apalagi kepiting yang me...</td>\n",
       "      <td>positive</td>\n",
       "    </tr>\n",
       "    <tr>\n",
       "      <th>12255</th>\n",
       "      <td>hormati partai-partai yang telah berkoalisi</td>\n",
       "      <td>neutral</td>\n",
       "    </tr>\n",
       "    <tr>\n",
       "      <th>12256</th>\n",
       "      <td>pagi pagi di tol pasteur sudah macet parah , b...</td>\n",
       "      <td>negative</td>\n",
       "    </tr>\n",
       "    <tr>\n",
       "      <th>12257</th>\n",
       "      <td>meskipun sering belanja ke yogya di riau junct...</td>\n",
       "      <td>positive</td>\n",
       "    </tr>\n",
       "  </tbody>\n",
       "</table>\n",
       "<p>12258 rows × 2 columns</p>\n",
       "</div>"
      ],
      "text/plain": [
       "                                                    text     label\n",
       "0                                             tidak enak  negative\n",
       "1      restoran ini menawarkan makanan sunda . kami m...  positive\n",
       "2      lokasi di alun alun masakan padang ini cukup t...  positive\n",
       "3      betapa bejad kader gerindra yang anggota dprd ...  negative\n",
       "4      kampiun bistro berada di jalan . kebon kawung ...  positive\n",
       "...                                                  ...       ...\n",
       "12253                                       tidak kecewa  positive\n",
       "12254  enak rasa masakan nya apalagi kepiting yang me...  positive\n",
       "12255        hormati partai-partai yang telah berkoalisi   neutral\n",
       "12256  pagi pagi di tol pasteur sudah macet parah , b...  negative\n",
       "12257  meskipun sering belanja ke yogya di riau junct...  positive\n",
       "\n",
       "[12258 rows x 2 columns]"
      ]
     },
     "execution_count": 5,
     "metadata": {},
     "output_type": "execute_result"
    }
   ],
   "source": [
    "df"
   ]
  },
  {
   "attachments": {},
   "cell_type": "markdown",
   "metadata": {},
   "source": [
    "## Preprocessing"
   ]
  },
  {
   "attachments": {},
   "cell_type": "markdown",
   "metadata": {},
   "source": [
    "### 1. Encode Labels"
   ]
  },
  {
   "cell_type": "code",
   "execution_count": 6,
   "metadata": {},
   "outputs": [
    {
     "name": "stdout",
     "output_type": "stream",
     "text": [
      "['negative' 'positive' 'neutral']\n"
     ]
    }
   ],
   "source": [
    "# print unique label\n",
    "print(df['label'].unique())"
   ]
  },
  {
   "cell_type": "code",
   "execution_count": 12,
   "metadata": {},
   "outputs": [
    {
     "data": {
      "text/html": [
       "<div>\n",
       "<style scoped>\n",
       "    .dataframe tbody tr th:only-of-type {\n",
       "        vertical-align: middle;\n",
       "    }\n",
       "\n",
       "    .dataframe tbody tr th {\n",
       "        vertical-align: top;\n",
       "    }\n",
       "\n",
       "    .dataframe thead th {\n",
       "        text-align: right;\n",
       "    }\n",
       "</style>\n",
       "<table border=\"1\" class=\"dataframe\">\n",
       "  <thead>\n",
       "    <tr style=\"text-align: right;\">\n",
       "      <th></th>\n",
       "      <th>text</th>\n",
       "      <th>label</th>\n",
       "      <th>label encode</th>\n",
       "    </tr>\n",
       "  </thead>\n",
       "  <tbody>\n",
       "    <tr>\n",
       "      <th>0</th>\n",
       "      <td>tidak enak</td>\n",
       "      <td>negative</td>\n",
       "      <td>0</td>\n",
       "    </tr>\n",
       "    <tr>\n",
       "      <th>1</th>\n",
       "      <td>restoran ini menawarkan makanan sunda . kami m...</td>\n",
       "      <td>positive</td>\n",
       "      <td>2</td>\n",
       "    </tr>\n",
       "    <tr>\n",
       "      <th>2</th>\n",
       "      <td>lokasi di alun alun masakan padang ini cukup t...</td>\n",
       "      <td>positive</td>\n",
       "      <td>2</td>\n",
       "    </tr>\n",
       "    <tr>\n",
       "      <th>3</th>\n",
       "      <td>betapa bejad kader gerindra yang anggota dprd ...</td>\n",
       "      <td>negative</td>\n",
       "      <td>0</td>\n",
       "    </tr>\n",
       "    <tr>\n",
       "      <th>4</th>\n",
       "      <td>kampiun bistro berada di jalan . kebon kawung ...</td>\n",
       "      <td>positive</td>\n",
       "      <td>2</td>\n",
       "    </tr>\n",
       "    <tr>\n",
       "      <th>...</th>\n",
       "      <td>...</td>\n",
       "      <td>...</td>\n",
       "      <td>...</td>\n",
       "    </tr>\n",
       "    <tr>\n",
       "      <th>12253</th>\n",
       "      <td>tidak kecewa</td>\n",
       "      <td>positive</td>\n",
       "      <td>2</td>\n",
       "    </tr>\n",
       "    <tr>\n",
       "      <th>12254</th>\n",
       "      <td>enak rasa masakan nya apalagi kepiting yang me...</td>\n",
       "      <td>positive</td>\n",
       "      <td>2</td>\n",
       "    </tr>\n",
       "    <tr>\n",
       "      <th>12255</th>\n",
       "      <td>hormati partai-partai yang telah berkoalisi</td>\n",
       "      <td>neutral</td>\n",
       "      <td>1</td>\n",
       "    </tr>\n",
       "    <tr>\n",
       "      <th>12256</th>\n",
       "      <td>pagi pagi di tol pasteur sudah macet parah , b...</td>\n",
       "      <td>negative</td>\n",
       "      <td>0</td>\n",
       "    </tr>\n",
       "    <tr>\n",
       "      <th>12257</th>\n",
       "      <td>meskipun sering belanja ke yogya di riau junct...</td>\n",
       "      <td>positive</td>\n",
       "      <td>2</td>\n",
       "    </tr>\n",
       "  </tbody>\n",
       "</table>\n",
       "<p>12258 rows × 3 columns</p>\n",
       "</div>"
      ],
      "text/plain": [
       "                                                    text     label  \\\n",
       "0                                             tidak enak  negative   \n",
       "1      restoran ini menawarkan makanan sunda . kami m...  positive   \n",
       "2      lokasi di alun alun masakan padang ini cukup t...  positive   \n",
       "3      betapa bejad kader gerindra yang anggota dprd ...  negative   \n",
       "4      kampiun bistro berada di jalan . kebon kawung ...  positive   \n",
       "...                                                  ...       ...   \n",
       "12253                                       tidak kecewa  positive   \n",
       "12254  enak rasa masakan nya apalagi kepiting yang me...  positive   \n",
       "12255        hormati partai-partai yang telah berkoalisi   neutral   \n",
       "12256  pagi pagi di tol pasteur sudah macet parah , b...  negative   \n",
       "12257  meskipun sering belanja ke yogya di riau junct...  positive   \n",
       "\n",
       "       label encode  \n",
       "0                 0  \n",
       "1                 2  \n",
       "2                 2  \n",
       "3                 0  \n",
       "4                 2  \n",
       "...             ...  \n",
       "12253             2  \n",
       "12254             2  \n",
       "12255             1  \n",
       "12256             0  \n",
       "12257             2  \n",
       "\n",
       "[12258 rows x 3 columns]"
      ]
     },
     "execution_count": 12,
     "metadata": {},
     "output_type": "execute_result"
    }
   ],
   "source": [
    "df_processed = df.copy()\n",
    "# Create a LabelEncoder object\n",
    "label_encoder = LabelEncoder()\n",
    "\n",
    "# Encode the labels\n",
    "df_processed['label encode'] = label_encoder.fit_transform(df_processed['label'])\n",
    "df_processed\n"
   ]
  },
  {
   "cell_type": "code",
   "execution_count": 3,
   "metadata": {},
   "outputs": [
    {
     "ename": "NameError",
     "evalue": "name 'df_processed' is not defined",
     "output_type": "error",
     "traceback": [
      "\u001b[1;31m---------------------------------------------------------------------------\u001b[0m",
      "\u001b[1;31mNameError\u001b[0m                                 Traceback (most recent call last)",
      "Cell \u001b[1;32mIn[3], line 2\u001b[0m\n\u001b[0;32m      1\u001b[0m \u001b[39m# Convert the encoded labels to categorical\u001b[39;00m\n\u001b[1;32m----> 2\u001b[0m df_processed[\u001b[39m'\u001b[39m\u001b[39mlabel encode\u001b[39m\u001b[39m'\u001b[39m] \u001b[39m=\u001b[39m tf\u001b[39m.\u001b[39mkeras\u001b[39m.\u001b[39mutils\u001b[39m.\u001b[39mto_categorical(df_processed[\u001b[39m'\u001b[39m\u001b[39mlabel encode\u001b[39m\u001b[39m'\u001b[39m])\n",
      "\u001b[1;31mNameError\u001b[0m: name 'df_processed' is not defined"
     ]
    }
   ],
   "source": [
    "\n",
    "# Convert the encoded labels to categorical\n",
    "df_processed['label encode'] = tf.keras.utils.to_categorical(df_processed['label encode'])"
   ]
  },
  {
   "cell_type": "code",
   "execution_count": 14,
   "metadata": {},
   "outputs": [
    {
     "data": {
      "text/html": [
       "<div>\n",
       "<style scoped>\n",
       "    .dataframe tbody tr th:only-of-type {\n",
       "        vertical-align: middle;\n",
       "    }\n",
       "\n",
       "    .dataframe tbody tr th {\n",
       "        vertical-align: top;\n",
       "    }\n",
       "\n",
       "    .dataframe thead th {\n",
       "        text-align: right;\n",
       "    }\n",
       "</style>\n",
       "<table border=\"1\" class=\"dataframe\">\n",
       "  <thead>\n",
       "    <tr style=\"text-align: right;\">\n",
       "      <th></th>\n",
       "      <th>text</th>\n",
       "      <th>label</th>\n",
       "      <th>label encode</th>\n",
       "    </tr>\n",
       "  </thead>\n",
       "  <tbody>\n",
       "    <tr>\n",
       "      <th>0</th>\n",
       "      <td>tidak enak</td>\n",
       "      <td>negative</td>\n",
       "      <td>1.0</td>\n",
       "    </tr>\n",
       "    <tr>\n",
       "      <th>1</th>\n",
       "      <td>restoran ini menawarkan makanan sunda . kami m...</td>\n",
       "      <td>positive</td>\n",
       "      <td>0.0</td>\n",
       "    </tr>\n",
       "    <tr>\n",
       "      <th>2</th>\n",
       "      <td>lokasi di alun alun masakan padang ini cukup t...</td>\n",
       "      <td>positive</td>\n",
       "      <td>0.0</td>\n",
       "    </tr>\n",
       "    <tr>\n",
       "      <th>3</th>\n",
       "      <td>betapa bejad kader gerindra yang anggota dprd ...</td>\n",
       "      <td>negative</td>\n",
       "      <td>1.0</td>\n",
       "    </tr>\n",
       "    <tr>\n",
       "      <th>4</th>\n",
       "      <td>kampiun bistro berada di jalan . kebon kawung ...</td>\n",
       "      <td>positive</td>\n",
       "      <td>0.0</td>\n",
       "    </tr>\n",
       "    <tr>\n",
       "      <th>...</th>\n",
       "      <td>...</td>\n",
       "      <td>...</td>\n",
       "      <td>...</td>\n",
       "    </tr>\n",
       "    <tr>\n",
       "      <th>12253</th>\n",
       "      <td>tidak kecewa</td>\n",
       "      <td>positive</td>\n",
       "      <td>0.0</td>\n",
       "    </tr>\n",
       "    <tr>\n",
       "      <th>12254</th>\n",
       "      <td>enak rasa masakan nya apalagi kepiting yang me...</td>\n",
       "      <td>positive</td>\n",
       "      <td>0.0</td>\n",
       "    </tr>\n",
       "    <tr>\n",
       "      <th>12255</th>\n",
       "      <td>hormati partai-partai yang telah berkoalisi</td>\n",
       "      <td>neutral</td>\n",
       "      <td>0.0</td>\n",
       "    </tr>\n",
       "    <tr>\n",
       "      <th>12256</th>\n",
       "      <td>pagi pagi di tol pasteur sudah macet parah , b...</td>\n",
       "      <td>negative</td>\n",
       "      <td>1.0</td>\n",
       "    </tr>\n",
       "    <tr>\n",
       "      <th>12257</th>\n",
       "      <td>meskipun sering belanja ke yogya di riau junct...</td>\n",
       "      <td>positive</td>\n",
       "      <td>0.0</td>\n",
       "    </tr>\n",
       "  </tbody>\n",
       "</table>\n",
       "<p>12258 rows × 3 columns</p>\n",
       "</div>"
      ],
      "text/plain": [
       "                                                    text     label  \\\n",
       "0                                             tidak enak  negative   \n",
       "1      restoran ini menawarkan makanan sunda . kami m...  positive   \n",
       "2      lokasi di alun alun masakan padang ini cukup t...  positive   \n",
       "3      betapa bejad kader gerindra yang anggota dprd ...  negative   \n",
       "4      kampiun bistro berada di jalan . kebon kawung ...  positive   \n",
       "...                                                  ...       ...   \n",
       "12253                                       tidak kecewa  positive   \n",
       "12254  enak rasa masakan nya apalagi kepiting yang me...  positive   \n",
       "12255        hormati partai-partai yang telah berkoalisi   neutral   \n",
       "12256  pagi pagi di tol pasteur sudah macet parah , b...  negative   \n",
       "12257  meskipun sering belanja ke yogya di riau junct...  positive   \n",
       "\n",
       "       label encode  \n",
       "0               1.0  \n",
       "1               0.0  \n",
       "2               0.0  \n",
       "3               1.0  \n",
       "4               0.0  \n",
       "...             ...  \n",
       "12253           0.0  \n",
       "12254           0.0  \n",
       "12255           0.0  \n",
       "12256           1.0  \n",
       "12257           0.0  \n",
       "\n",
       "[12258 rows x 3 columns]"
      ]
     },
     "execution_count": 14,
     "metadata": {},
     "output_type": "execute_result"
    }
   ],
   "source": [
    "df_processed"
   ]
  },
  {
   "attachments": {},
   "cell_type": "markdown",
   "metadata": {},
   "source": [
    "### 2. Stemming"
   ]
  },
  {
   "cell_type": "code",
   "execution_count": null,
   "metadata": {},
   "outputs": [],
   "source": [
    "# stemmer\n",
    "factory = StemmerFactory()\n",
    "stemmer = factory.create_stemmer()\n",
    "\n",
    "df_processed['text'] = df_processed['text'].apply(lambda x: stemmer.stem(x))\n",
    "df_processed "
   ]
  },
  {
   "cell_type": "code",
   "execution_count": 7,
   "metadata": {},
   "outputs": [],
   "source": [
    "df_processed = pd.read_csv('train_valid_stemmed.csv')"
   ]
  },
  {
   "cell_type": "code",
   "execution_count": 8,
   "metadata": {},
   "outputs": [
    {
     "data": {
      "text/html": [
       "<div>\n",
       "<style scoped>\n",
       "    .dataframe tbody tr th:only-of-type {\n",
       "        vertical-align: middle;\n",
       "    }\n",
       "\n",
       "    .dataframe tbody tr th {\n",
       "        vertical-align: top;\n",
       "    }\n",
       "\n",
       "    .dataframe thead th {\n",
       "        text-align: right;\n",
       "    }\n",
       "</style>\n",
       "<table border=\"1\" class=\"dataframe\">\n",
       "  <thead>\n",
       "    <tr style=\"text-align: right;\">\n",
       "      <th></th>\n",
       "      <th>text</th>\n",
       "      <th>label</th>\n",
       "      <th>label encode</th>\n",
       "    </tr>\n",
       "  </thead>\n",
       "  <tbody>\n",
       "    <tr>\n",
       "      <th>0</th>\n",
       "      <td>tidak enak</td>\n",
       "      <td>negative</td>\n",
       "      <td>0</td>\n",
       "    </tr>\n",
       "    <tr>\n",
       "      <th>1</th>\n",
       "      <td>restoran ini tawar makan sunda kami mes ayam g...</td>\n",
       "      <td>positive</td>\n",
       "      <td>2</td>\n",
       "    </tr>\n",
       "    <tr>\n",
       "      <th>2</th>\n",
       "      <td>lokasi di alun alun masakan padang ini cukup k...</td>\n",
       "      <td>positive</td>\n",
       "      <td>2</td>\n",
       "    </tr>\n",
       "    <tr>\n",
       "      <th>3</th>\n",
       "      <td>betapa bejad kader gerindra yang anggota dprd ...</td>\n",
       "      <td>negative</td>\n",
       "      <td>0</td>\n",
       "    </tr>\n",
       "    <tr>\n",
       "      <th>4</th>\n",
       "      <td>kampiun bistro ada di jalan kebon kawung belah...</td>\n",
       "      <td>positive</td>\n",
       "      <td>2</td>\n",
       "    </tr>\n",
       "    <tr>\n",
       "      <th>...</th>\n",
       "      <td>...</td>\n",
       "      <td>...</td>\n",
       "      <td>...</td>\n",
       "    </tr>\n",
       "    <tr>\n",
       "      <th>12253</th>\n",
       "      <td>tidak kecewa</td>\n",
       "      <td>positive</td>\n",
       "      <td>2</td>\n",
       "    </tr>\n",
       "    <tr>\n",
       "      <th>12254</th>\n",
       "      <td>enak rasa masakan nya apalagi kepiting yang se...</td>\n",
       "      <td>positive</td>\n",
       "      <td>2</td>\n",
       "    </tr>\n",
       "    <tr>\n",
       "      <th>12255</th>\n",
       "      <td>hormat partai yang telah koalisi</td>\n",
       "      <td>neutral</td>\n",
       "      <td>1</td>\n",
       "    </tr>\n",
       "    <tr>\n",
       "      <th>12256</th>\n",
       "      <td>pagi pagi di tol pasteur sudah macet parah bik...</td>\n",
       "      <td>negative</td>\n",
       "      <td>0</td>\n",
       "    </tr>\n",
       "    <tr>\n",
       "      <th>12257</th>\n",
       "      <td>meski sering belanja ke yogya di riau junction...</td>\n",
       "      <td>positive</td>\n",
       "      <td>2</td>\n",
       "    </tr>\n",
       "  </tbody>\n",
       "</table>\n",
       "<p>12258 rows × 3 columns</p>\n",
       "</div>"
      ],
      "text/plain": [
       "                                                    text     label  \\\n",
       "0                                             tidak enak  negative   \n",
       "1      restoran ini tawar makan sunda kami mes ayam g...  positive   \n",
       "2      lokasi di alun alun masakan padang ini cukup k...  positive   \n",
       "3      betapa bejad kader gerindra yang anggota dprd ...  negative   \n",
       "4      kampiun bistro ada di jalan kebon kawung belah...  positive   \n",
       "...                                                  ...       ...   \n",
       "12253                                       tidak kecewa  positive   \n",
       "12254  enak rasa masakan nya apalagi kepiting yang se...  positive   \n",
       "12255                   hormat partai yang telah koalisi   neutral   \n",
       "12256  pagi pagi di tol pasteur sudah macet parah bik...  negative   \n",
       "12257  meski sering belanja ke yogya di riau junction...  positive   \n",
       "\n",
       "       label encode  \n",
       "0                 0  \n",
       "1                 2  \n",
       "2                 2  \n",
       "3                 0  \n",
       "4                 2  \n",
       "...             ...  \n",
       "12253             2  \n",
       "12254             2  \n",
       "12255             1  \n",
       "12256             0  \n",
       "12257             2  \n",
       "\n",
       "[12258 rows x 3 columns]"
      ]
     },
     "execution_count": 8,
     "metadata": {},
     "output_type": "execute_result"
    }
   ],
   "source": [
    "df_processed"
   ]
  },
  {
   "cell_type": "code",
   "execution_count": 27,
   "metadata": {},
   "outputs": [],
   "source": [
    "# save to csv\n",
    "#df_processed.to_csv('train_valid_stemmed.csv', index=False)"
   ]
  },
  {
   "attachments": {},
   "cell_type": "markdown",
   "metadata": {},
   "source": [
    "### 4. Tokenization"
   ]
  },
  {
   "cell_type": "code",
   "execution_count": 9,
   "metadata": {},
   "outputs": [],
   "source": [
    "# tokenize the data\n",
    "\n",
    "\n",
    "tokenizer = Tokenizer(num_words=10000, oov_token='x')\n",
    "tokenizer.fit_on_texts(df_processed['text'].values)\n",
    "word_index = tokenizer.word_index\n"
   ]
  },
  {
   "cell_type": "code",
   "execution_count": 10,
   "metadata": {},
   "outputs": [
    {
     "data": {
      "text/plain": [
       "13920"
      ]
     },
     "execution_count": 10,
     "metadata": {},
     "output_type": "execute_result"
    }
   ],
   "source": [
    "len(word_index)"
   ]
  },
  {
   "cell_type": "code",
   "execution_count": 11,
   "metadata": {},
   "outputs": [],
   "source": [
    "# convert text to sequence\n",
    "sequences = tokenizer.texts_to_sequences(df_processed['text'].values)\n",
    "padded = pad_sequences(sequences, maxlen=100, padding='post', truncating='post')\n"
   ]
  },
  {
   "cell_type": "code",
   "execution_count": 12,
   "metadata": {},
   "outputs": [
    {
     "data": {
      "text/plain": [
       "array([[   7,   10,    0, ...,    0,    0,    0],\n",
       "       [  37,   12,  215, ...,    0,    0,    0],\n",
       "       [  72,    5, 1561, ...,    0,    0,    0],\n",
       "       ...,\n",
       "       [1129,  355,    3, ...,    0,    0,    0],\n",
       "       [ 340,  340,    5, ...,    0,    0,    0],\n",
       "       [ 336,  276,  442, ...,    0,    0,    0]])"
      ]
     },
     "execution_count": 12,
     "metadata": {},
     "output_type": "execute_result"
    }
   ],
   "source": [
    "padded"
   ]
  },
  {
   "attachments": {},
   "cell_type": "markdown",
   "metadata": {},
   "source": [
    "## Model    "
   ]
  },
  {
   "cell_type": "code",
   "execution_count": 48,
   "metadata": {},
   "outputs": [],
   "source": [
    "# # function to create model\n",
    "# def create_model(input_length, vocab_size, lstm_units, dropout_rate, dense_units):\n",
    "#     model = tf.keras.Sequential([\n",
    "#         tf.keras.layers.Embedding(vocab_size, 64, input_length=input_length),\n",
    "#         tf.keras.layers.LSTM(lstm_units, return_sequences=True),\n",
    "#         tf.keras.layers.Dropout(dropout_rate),\n",
    "#         tf.keras.layers.LSTM(int(lstm_units/2)),\n",
    "#         tf.keras.layers.Dropout(dropout_rate),\n",
    "#         tf.keras.layers.Dense(dense_units, activation='relu'),\n",
    "#         tf.keras.layers.Dense(3, activation='softmax')\n",
    "#     ])\n",
    "\n",
    "#     model.compile(loss='categorical_crossentropy', optimizer='adam', metrics=['accuracy'])\n",
    "    \n",
    "#     return model"
   ]
  },
  {
   "cell_type": "code",
   "execution_count": null,
   "metadata": {},
   "outputs": [],
   "source": []
  },
  {
   "cell_type": "code",
   "execution_count": 74,
   "metadata": {},
   "outputs": [
    {
     "name": "stderr",
     "output_type": "stream",
     "text": [
      "C:\\Users\\fahre\\AppData\\Local\\Temp\\ipykernel_5096\\4025555447.py:2: DeprecationWarning: KerasClassifier is deprecated, use Sci-Keras (https://github.com/adriangb/scikeras) instead. See https://www.adriangb.com/scikeras/stable/migration.html for help migrating.\n",
      "  model = tf.keras.wrappers.scikit_learn.KerasClassifier(build_fn=create_model, epochs=100, verbose=1)\n"
     ]
    }
   ],
   "source": [
    "# # create model \n",
    "# model = tf.keras.wrappers.scikit_learn.KerasClassifier(build_fn=create_model, epochs=100, verbose=1)"
   ]
  },
  {
   "cell_type": "code",
   "execution_count": 72,
   "metadata": {},
   "outputs": [],
   "source": [
    "# # hyperparameter tuning\n",
    "# from sklearn.model_selection import GridSearchCV\n",
    "\n",
    "# param_grid = {\n",
    "#     'input_length': [padded.shape[1]],\n",
    "#     'vocab_size': [len(word_index)+1],\n",
    "#     'lstm_units': [128, 256],\n",
    "#     'dropout_rate': [0.1, 0.2],\n",
    "#     'dense_units': [64, 128],\n",
    "#     'epochs': [100]\n",
    "# }\n",
    "\n",
    "# grid = GridSearchCV(estimator=model, param_grid=param_grid, n_jobs=-1, verbose=1)\n"
   ]
  },
  {
   "attachments": {},
   "cell_type": "markdown",
   "metadata": {},
   "source": [
    "### Scenario 1: Train-Valid 80-20,  "
   ]
  },
  {
   "cell_type": "code",
   "execution_count": 49,
   "metadata": {},
   "outputs": [],
   "source": [
    "\n",
    "# # prepare train and validation data\n",
    "# X_train, X_test, y_train, y_test = train_test_split(padded, df_processed['label encode'].values, test_size=0.2, random_state=42)\n",
    "\n",
    "# y_train = tf.keras.utils.to_categorical(y_train)\n",
    "# y_test = tf.keras.utils.to_categorical(y_test)\n",
    "\n"
   ]
  },
  {
   "cell_type": "code",
   "execution_count": 65,
   "metadata": {},
   "outputs": [
    {
     "name": "stdout",
     "output_type": "stream",
     "text": [
      "307/307 [==============================] - 36s 107ms/step - loss: 0.9221 - accuracy: 0.5857\n"
     ]
    }
   ],
   "source": [
    "\n",
    "\n",
    "# train in grid search\n",
    "# grid_result = grid.fit(X_train, y_train)\n"
   ]
  },
  {
   "cell_type": "code",
   "execution_count": 66,
   "metadata": {},
   "outputs": [
    {
     "name": "stdout",
     "output_type": "stream",
     "text": [
      "Best Hyperparameters:  {'dense_units': 64, 'dropout_rate': 0.1, 'input_length': 100, 'lstm_units': 128, 'vocab_size': 13916}\n",
      "Best Accuracy:  0.5868860284487406\n"
     ]
    }
   ],
   "source": [
    "# # Print best hyperparameters and accuracy\n",
    "# print(\"Best Hyperparameters: \", grid_result.best_params_)\n",
    "# print(\"Best Accuracy: \", grid_result.best_score_)"
   ]
  },
  {
   "cell_type": "code",
   "execution_count": 69,
   "metadata": {},
   "outputs": [
    {
     "name": "stdout",
     "output_type": "stream",
     "text": [
      "77/77 [==============================] - 4s 34ms/step\n",
      "Accuracy of the best model: 56.89%\n"
     ]
    }
   ],
   "source": [
    "# # Evaluate the best model\n",
    "# best_model_8020 = grid_result.best_estimator_\n",
    "\n",
    "# # Predict labels for the test data using the best model\n",
    "# y_pred_best_8020 = best_model_8020.predict(X_test)\n",
    "\n",
    "# # Calculate accuracy\n",
    "# accuracy_best_8020 = np.mean(y_pred_best_8020 == y_test)\n",
    "\n",
    "# # Print the accuracy\n",
    "# print('Accuracy of the best model: {:.2%}'.format(accuracy_best_8020))"
   ]
  },
  {
   "cell_type": "code",
   "execution_count": 50,
   "metadata": {},
   "outputs": [
    {
     "name": "stdout",
     "output_type": "stream",
     "text": [
      "Epoch 1/100\n",
      "307/307 [==============================] - 36s 105ms/step - loss: 0.9245 - accuracy: 0.5850 - val_loss: 0.9219 - val_accuracy: 0.5689\n",
      "Epoch 2/100\n",
      "307/307 [==============================] - 31s 102ms/step - loss: 0.9155 - accuracy: 0.5869 - val_loss: 0.9208 - val_accuracy: 0.5689\n",
      "Epoch 3/100\n",
      "307/307 [==============================] - 31s 101ms/step - loss: 0.9161 - accuracy: 0.5869 - val_loss: 0.9203 - val_accuracy: 0.5689\n",
      "Epoch 4/100\n",
      "307/307 [==============================] - 34s 112ms/step - loss: 0.9152 - accuracy: 0.5869 - val_loss: 0.9208 - val_accuracy: 0.5689\n",
      "Epoch 4: early stopping\n"
     ]
    }
   ],
   "source": [
    "\n",
    "\n",
    "# # Define the EarlyStopping callback\n",
    "# early_stopping = EarlyStopping(monitor='val_accuracy', patience=3, verbose=1)\n",
    "\n",
    "# model_without_regularization = create_model(padded.shape[1], len(word_index)+1, 128, 0.3, 64)\n",
    "# model_without_regularization_history = model_without_regularization.fit(X_train, y_train, epochs=100, validation_data=(X_test, y_test), callbacks=[early_stopping], verbose=1)"
   ]
  },
  {
   "cell_type": "code",
   "execution_count": 1,
   "metadata": {},
   "outputs": [
    {
     "ename": "NameError",
     "evalue": "name 'model_without_regularization' is not defined",
     "output_type": "error",
     "traceback": [
      "\u001b[1;31m---------------------------------------------------------------------------\u001b[0m",
      "\u001b[1;31mNameError\u001b[0m                                 Traceback (most recent call last)",
      "Cell \u001b[1;32mIn[1], line 1\u001b[0m\n\u001b[1;32m----> 1\u001b[0m model_without_regularization\u001b[39m.\u001b[39msummary()\n",
      "\u001b[1;31mNameError\u001b[0m: name 'model_without_regularization' is not defined"
     ]
    }
   ],
   "source": [
    "# model_without_regularization.summary()"
   ]
  },
  {
   "cell_type": "code",
   "execution_count": 51,
   "metadata": {},
   "outputs": [
    {
     "name": "stdout",
     "output_type": "stream",
     "text": [
      "77/77 [==============================] - 3s 27ms/step\n",
      "              precision    recall  f1-score   support\n",
      "\n",
      "    negative       1.00      0.00      0.00       806\n",
      "     neutral       1.00      0.00      0.00       251\n",
      "    positive       0.57      1.00      0.73      1395\n",
      "\n",
      "    accuracy                           0.57      2452\n",
      "   macro avg       0.86      0.33      0.24      2452\n",
      "weighted avg       0.75      0.57      0.41      2452\n",
      "\n"
     ]
    }
   ],
   "source": [
    "\n",
    "\n",
    "# model_without_regularization_classreport = classification_report(y_test.argmax(axis=1), model_without_regularization.predict(X_test).argmax(axis=1), target_names=['negative', 'neutral', 'positive'], zero_division=1)\n",
    "# print(model_without_regularization_classreport)"
   ]
  },
  {
   "attachments": {},
   "cell_type": "markdown",
   "metadata": {},
   "source": [
    "### Scenario 2: Train-Valid 90-10,"
   ]
  },
  {
   "cell_type": "code",
   "execution_count": 70,
   "metadata": {},
   "outputs": [
    {
     "name": "stdout",
     "output_type": "stream",
     "text": [
      "345/345 [==============================] - 36s 97ms/step - loss: 0.9201 - accuracy: 0.5836\n"
     ]
    }
   ],
   "source": [
    "# X_train90, X_test10, y_train90, y_test10 = train_test_split(padded, df_processed['label encode'].values, test_size=0.1, random_state=42)\n",
    "\n",
    "# # train model with best hyperparameters\n",
    "# grid_result_9010 = grid.fit(X_train90, y_train90)"
   ]
  },
  {
   "cell_type": "code",
   "execution_count": 71,
   "metadata": {},
   "outputs": [
    {
     "name": "stdout",
     "output_type": "stream",
     "text": [
      "39/39 [==============================] - 2s 32ms/step\n",
      "Accuracy of the best model: 57.34%\n"
     ]
    }
   ],
   "source": [
    "# # Evaluate the best model\n",
    "# best_model_9010 = grid_result_9010.best_estimator_\n",
    "\n",
    "# # Predict labels for the test data using the best model\n",
    "# y_pred_best_9010 = best_model_9010.predict(X_test10)\n",
    "\n",
    "# # Calculate accuracy\n",
    "# accuracy_best_9010 = np.mean(y_pred_best_9010 == y_test10)\n",
    "\n",
    "# # Print the accuracy\n",
    "# print('Accuracy of the best model: {:.2%}'.format(accuracy_best_9010))"
   ]
  },
  {
   "attachments": {},
   "cell_type": "markdown",
   "metadata": {},
   "source": [
    "### Scenario 3: Train-Valid 80-20, epoch=100"
   ]
  },
  {
   "cell_type": "code",
   "execution_count": 25,
   "metadata": {},
   "outputs": [],
   "source": [
    "# from sklearn.model_selection import train_test_split\n",
    "\n",
    "# # prepare train and validation data\n",
    "# X_train_e100_8020, X_test_e100_8020 , y_train_e100_8020 , y_test_e100_8020 = train_test_split(padded, df_processed['label encode'].values, test_size=0.2, random_state=42)\n",
    "\n",
    "\n"
   ]
  },
  {
   "cell_type": "code",
   "execution_count": null,
   "metadata": {},
   "outputs": [],
   "source": [
    "# # train in grid search\n",
    "# grid_result = grid.fit(X_train_e100_8020, y_train_e100_8020)"
   ]
  },
  {
   "attachments": {},
   "cell_type": "markdown",
   "metadata": {},
   "source": [
    "### Scenario 4 : Train-Valid 80-20, using different architecture"
   ]
  },
  {
   "cell_type": "code",
   "execution_count": 13,
   "metadata": {},
   "outputs": [],
   "source": [
    "# \n",
    "vocab_size = len(word_index)+1\n",
    "input_length = padded.shape[1]\n",
    "lstm_units = 128\n",
    "dropout_rate = 0.3\n",
    "dense_units = 32\n",
    "\n",
    "\n",
    "# Define the EarlyStopping callback\n",
    "early_stopping = EarlyStopping(monitor='val_accuracy', patience=3, verbose=1)\n",
    "\n",
    "model = tf.keras.Sequential([\n",
    "        tf.keras.layers.Embedding(vocab_size, 32, input_length=input_length),\n",
    "        tf.keras.layers.SpatialDropout1D(0.2),\n",
    "        tf.keras.layers.LSTM(lstm_units, return_sequences=True),\n",
    "        tf.keras.layers.Dropout(dropout_rate),\n",
    "        tf.keras.layers.LSTM(int(lstm_units/2), return_sequences=True),\n",
    "        tf.keras.layers.Conv1D(64, 5, activation='relu'),\n",
    "        tf.keras.layers.GlobalMaxPooling1D(),\n",
    "        tf.keras.layers.Dropout(dropout_rate),\n",
    "        tf.keras.layers.Dense(dense_units, activation='relu'),\n",
    "        tf.keras.layers.Dense(3, activation='softmax')\n",
    "    ])\n",
    "\n",
    "model.compile(loss='categorical_crossentropy', optimizer='adam', metrics=['accuracy'])\n",
    "    "
   ]
  },
  {
   "cell_type": "code",
   "execution_count": 14,
   "metadata": {},
   "outputs": [],
   "source": [
    "X_train_e100_8020, X_test_e100_8020 , y_train_e100_8020 , y_test_e100_8020 = train_test_split(padded, df_processed['label encode'].values, test_size=0.2, random_state=42)\n",
    "\n",
    "y_train_e100_8020 = tf.keras.utils.to_categorical(y_train_e100_8020)\n",
    "y_test_e100_8020 = tf.keras.utils.to_categorical(y_test_e100_8020)"
   ]
  },
  {
   "cell_type": "code",
   "execution_count": 15,
   "metadata": {},
   "outputs": [
    {
     "name": "stdout",
     "output_type": "stream",
     "text": [
      "Epoch 1/100\n",
      "307/307 [==============================] - 36s 106ms/step - loss: 0.6548 - accuracy: 0.7310 - val_loss: 0.5156 - val_accuracy: 0.7912\n",
      "Epoch 2/100\n",
      "307/307 [==============================] - 31s 99ms/step - loss: 0.4529 - accuracy: 0.8179 - val_loss: 0.4224 - val_accuracy: 0.8397\n",
      "Epoch 3/100\n",
      "307/307 [==============================] - 31s 101ms/step - loss: 0.3290 - accuracy: 0.8847 - val_loss: 0.3916 - val_accuracy: 0.8471\n",
      "Epoch 4/100\n",
      "307/307 [==============================] - 31s 101ms/step - loss: 0.2217 - accuracy: 0.9266 - val_loss: 0.3414 - val_accuracy: 0.8736\n",
      "Epoch 5/100\n",
      "307/307 [==============================] - 32s 105ms/step - loss: 0.1716 - accuracy: 0.9423 - val_loss: 0.4530 - val_accuracy: 0.8597\n",
      "Epoch 6/100\n",
      "307/307 [==============================] - 30s 98ms/step - loss: 0.1407 - accuracy: 0.9520 - val_loss: 0.4285 - val_accuracy: 0.8670\n",
      "Epoch 7/100\n",
      "307/307 [==============================] - 29s 94ms/step - loss: 0.1080 - accuracy: 0.9617 - val_loss: 0.4506 - val_accuracy: 0.8626\n",
      "Epoch 7: early stopping\n"
     ]
    },
    {
     "data": {
      "text/plain": [
       "<keras.callbacks.History at 0x2d4530e3a00>"
      ]
     },
     "execution_count": 15,
     "metadata": {},
     "output_type": "execute_result"
    }
   ],
   "source": [
    "model.fit(X_train_e100_8020, y_train_e100_8020, epochs=100, validation_data=(X_test_e100_8020, y_test_e100_8020),callbacks=[early_stopping], verbose=1)"
   ]
  },
  {
   "cell_type": "code",
   "execution_count": 16,
   "metadata": {},
   "outputs": [
    {
     "data": {
      "image/png": "[encoded data removed]",
      "text/plain": [
       "<Figure size 640x480 with 2 Axes>"
      ]
     },
     "metadata": {},
     "output_type": "display_data"
    }
   ],
   "source": [
    "import matplotlib.pyplot as plt\n",
    "\n",
    "# Get the training history\n",
    "history = model.history\n",
    "\n",
    "# Create a figure and axis\n",
    "fig, axs = plt.subplots(2)\n",
    "# Add a main title\n",
    "fig.suptitle('Without Stopwords Removal')\n",
    "\n",
    "# Plot the accuracy\n",
    "axs[0].plot(history.history['accuracy'])\n",
    "axs[0].plot(history.history['val_accuracy'])\n",
    "axs[0].set_title('Model Accuracy')\n",
    "axs[0].set_xlabel('Epoch')\n",
    "axs[0].set_ylabel('Accuracy')\n",
    "axs[0].legend(['train', 'val'], loc='upper left')\n",
    "\n",
    "# Plot the loss\n",
    "axs[1].plot(history.history['loss'])\n",
    "axs[1].plot(history.history['val_loss'])\n",
    "axs[1].set_title('Model Loss')\n",
    "axs[1].set_xlabel('Epoch')\n",
    "axs[1].set_ylabel('Loss')\n",
    "axs[1].legend(['train', 'val'], loc='upper left')\n",
    "\n",
    "# Adjust the spacing between subplots\n",
    "plt.subplots_adjust(hspace=0.5)\n",
    "\n",
    "# Display the plot\n",
    "plt.show()\n"
   ]
  },
  {
   "cell_type": "code",
   "execution_count": 17,
   "metadata": {},
   "outputs": [
    {
     "name": "stdout",
     "output_type": "stream",
     "text": [
      "77/77 [==============================] - 3s 28ms/step\n",
      "              precision    recall  f1-score   support\n",
      "\n",
      "    negative       0.81      0.84      0.83       806\n",
      "     neutral       0.78      0.74      0.76       251\n",
      "    positive       0.91      0.90      0.90      1395\n",
      "\n",
      "    accuracy                           0.86      2452\n",
      "   macro avg       0.83      0.82      0.83      2452\n",
      "weighted avg       0.86      0.86      0.86      2452\n",
      "\n"
     ]
    }
   ],
   "source": [
    "# classification report\n",
    "\n",
    "from sklearn.metrics import classification_report\n",
    "\n",
    "\n",
    "class_report = classification_report(y_test_e100_8020.argmax(axis=1), model.predict(X_test_e100_8020).argmax(axis=1), target_names=['negative', 'neutral', 'positive'])\n",
    "print(class_report) "
   ]
  },
  {
   "cell_type": "code",
   "execution_count": null,
   "metadata": {},
   "outputs": [],
   "source": []
  }
 ],
 "metadata": {
  "kernelspec": {
   "display_name": "tf-gpu",
   "language": "python",
   "name": "python3"
  },
  "language_info": {
   "codemirror_mode": {
    "name": "ipython",
    "version": 3
   },
   "file_extension": ".py",
   "mimetype": "text/x-python",
   "name": "python",
   "nbconvert_exporter": "python",
   "pygments_lexer": "ipython3",
   "version": "3.9.16"
  },
  "orig_nbformat": 4
 },
 "nbformat": 4,
 "nbformat_minor": 2
}
